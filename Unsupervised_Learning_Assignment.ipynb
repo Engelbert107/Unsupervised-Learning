{
  "nbformat": 4,
  "nbformat_minor": 0,
  "metadata": {
    "colab": {
      "name": "Unsupervised-Learning-Assignment.ipynb",
      "provenance": [],
      "collapsed_sections": []
    },
    "kernelspec": {
      "name": "python3",
      "display_name": "Python 3"
    }
  },
  "cells": [
    {
      "cell_type": "markdown",
      "metadata": {
        "id": "rd8xyoM1k9KA"
      },
      "source": [
        "# Assignment - Foundation of Machine Learning"
      ]
    },
    {
      "cell_type": "markdown",
      "metadata": {
        "id": "Sk59RPmImCXx"
      },
      "source": [
        "### Based on the content covered today's class, you are tasked to the following:\n",
        "\n",
        "1- Code from scratch the k-means clustering algorithm.\n",
        "\n",
        "2- Visualize the different centroids and clusters.\n",
        "\n",
        "3- Code from scratch the PCA algorithm.\n",
        "\n",
        "4- Visualize the result of PCA for 2 components."
      ]
    },
    {
      "cell_type": "code",
      "metadata": {
        "id": "bsdTbC0fk1S9"
      },
      "source": [
        "from google.colab import drive\n",
        "drive.mount('/content/drive')"
      ],
      "execution_count": null,
      "outputs": []
    },
    {
      "cell_type": "code",
      "metadata": {
        "id": "YF9RUiUsm9_K"
      },
      "source": [
        "import numpy as np\n",
        "import pandas as pd\n",
        "import seaborn as sb\n",
        "import matplotlib.pyplot as plt\n",
        "from sklearn.datasets import make_blobs"
      ],
      "execution_count": null,
      "outputs": []
    },
    {
      "cell_type": "code",
      "metadata": {
        "id": "x9hzB9PMnY1C"
      },
      "source": [
        "path = \"/content/drive/MyDrive/Assignment/Data.csv\"\n",
        "df = pd.read_csv(path, sep=',')"
      ],
      "execution_count": null,
      "outputs": []
    },
    {
      "cell_type": "code",
      "metadata": {
        "colab": {
          "base_uri": "https://localhost:8080/",
          "height": 204
        },
        "id": "geZAgSXooehF",
        "outputId": "3cb9e7f8-9eb1-4738-f851-056b94c059ff"
      },
      "source": [
        "df.head()"
      ],
      "execution_count": null,
      "outputs": [
        {
          "output_type": "execute_result",
          "data": {
            "text/html": [
              "<div>\n",
              "<style scoped>\n",
              "    .dataframe tbody tr th:only-of-type {\n",
              "        vertical-align: middle;\n",
              "    }\n",
              "\n",
              "    .dataframe tbody tr th {\n",
              "        vertical-align: top;\n",
              "    }\n",
              "\n",
              "    .dataframe thead th {\n",
              "        text-align: right;\n",
              "    }\n",
              "</style>\n",
              "<table border=\"1\" class=\"dataframe\">\n",
              "  <thead>\n",
              "    <tr style=\"text-align: right;\">\n",
              "      <th></th>\n",
              "      <th>f1</th>\n",
              "      <th>f2</th>\n",
              "      <th>f3</th>\n",
              "      <th>f4</th>\n",
              "    </tr>\n",
              "  </thead>\n",
              "  <tbody>\n",
              "    <tr>\n",
              "      <th>0</th>\n",
              "      <td>5.1</td>\n",
              "      <td>3.5</td>\n",
              "      <td>1.4</td>\n",
              "      <td>0.2</td>\n",
              "    </tr>\n",
              "    <tr>\n",
              "      <th>1</th>\n",
              "      <td>4.9</td>\n",
              "      <td>3.0</td>\n",
              "      <td>1.4</td>\n",
              "      <td>0.2</td>\n",
              "    </tr>\n",
              "    <tr>\n",
              "      <th>2</th>\n",
              "      <td>4.7</td>\n",
              "      <td>3.2</td>\n",
              "      <td>1.3</td>\n",
              "      <td>0.2</td>\n",
              "    </tr>\n",
              "    <tr>\n",
              "      <th>3</th>\n",
              "      <td>4.6</td>\n",
              "      <td>3.1</td>\n",
              "      <td>1.5</td>\n",
              "      <td>0.2</td>\n",
              "    </tr>\n",
              "    <tr>\n",
              "      <th>4</th>\n",
              "      <td>5.0</td>\n",
              "      <td>3.6</td>\n",
              "      <td>1.4</td>\n",
              "      <td>0.2</td>\n",
              "    </tr>\n",
              "  </tbody>\n",
              "</table>\n",
              "</div>"
            ],
            "text/plain": [
              "    f1   f2   f3   f4\n",
              "0  5.1  3.5  1.4  0.2\n",
              "1  4.9  3.0  1.4  0.2\n",
              "2  4.7  3.2  1.3  0.2\n",
              "3  4.6  3.1  1.5  0.2\n",
              "4  5.0  3.6  1.4  0.2"
            ]
          },
          "metadata": {
            "tags": []
          },
          "execution_count": 4
        }
      ]
    },
    {
      "cell_type": "code",
      "metadata": {
        "colab": {
          "base_uri": "https://localhost:8080/"
        },
        "id": "5jvCFnIHoIQP",
        "outputId": "25692b38-3d3e-49ac-b2a0-4577e9034e57"
      },
      "source": [
        "print(f\"df shape : {df.shape}\")"
      ],
      "execution_count": null,
      "outputs": [
        {
          "output_type": "stream",
          "text": [
            "df shape : (150, 4)\n"
          ],
          "name": "stdout"
        }
      ]
    },
    {
      "cell_type": "code",
      "metadata": {
        "id": "QC6AOALKoKff"
      },
      "source": [
        "# check nan values in the data\n",
        "for col in df.columns:\n",
        "  if df[col].isna().sum() != 0:\n",
        "    print(f\"column {col} as number of nan equal to {df[col].isna().sum()}\")"
      ],
      "execution_count": null,
      "outputs": []
    },
    {
      "cell_type": "code",
      "metadata": {
        "colab": {
          "base_uri": "https://localhost:8080/"
        },
        "id": "3G0jMyK8LFab",
        "outputId": "3651a248-d593-473f-e128-e614fb74afd7"
      },
      "source": [
        "# \n",
        "df.info()"
      ],
      "execution_count": null,
      "outputs": [
        {
          "output_type": "stream",
          "text": [
            "<class 'pandas.core.frame.DataFrame'>\n",
            "RangeIndex: 150 entries, 0 to 149\n",
            "Data columns (total 4 columns):\n",
            " #   Column  Non-Null Count  Dtype  \n",
            "---  ------  --------------  -----  \n",
            " 0   f1      150 non-null    float64\n",
            " 1   f2      150 non-null    float64\n",
            " 2   f3      150 non-null    float64\n",
            " 3   f4      150 non-null    float64\n",
            "dtypes: float64(4)\n",
            "memory usage: 4.8 KB\n"
          ],
          "name": "stdout"
        }
      ]
    },
    {
      "cell_type": "code",
      "metadata": {
        "colab": {
          "base_uri": "https://localhost:8080/",
          "height": 297
        },
        "id": "JoO6m1WoLQwn",
        "outputId": "2679e7a1-e1f2-40a7-b2e8-4f9f138b9257"
      },
      "source": [
        "df.describe()"
      ],
      "execution_count": null,
      "outputs": [
        {
          "output_type": "execute_result",
          "data": {
            "text/html": [
              "<div>\n",
              "<style scoped>\n",
              "    .dataframe tbody tr th:only-of-type {\n",
              "        vertical-align: middle;\n",
              "    }\n",
              "\n",
              "    .dataframe tbody tr th {\n",
              "        vertical-align: top;\n",
              "    }\n",
              "\n",
              "    .dataframe thead th {\n",
              "        text-align: right;\n",
              "    }\n",
              "</style>\n",
              "<table border=\"1\" class=\"dataframe\">\n",
              "  <thead>\n",
              "    <tr style=\"text-align: right;\">\n",
              "      <th></th>\n",
              "      <th>f1</th>\n",
              "      <th>f2</th>\n",
              "      <th>f3</th>\n",
              "      <th>f4</th>\n",
              "    </tr>\n",
              "  </thead>\n",
              "  <tbody>\n",
              "    <tr>\n",
              "      <th>count</th>\n",
              "      <td>150.000000</td>\n",
              "      <td>150.000000</td>\n",
              "      <td>150.000000</td>\n",
              "      <td>150.000000</td>\n",
              "    </tr>\n",
              "    <tr>\n",
              "      <th>mean</th>\n",
              "      <td>5.843333</td>\n",
              "      <td>3.057333</td>\n",
              "      <td>3.758000</td>\n",
              "      <td>1.199333</td>\n",
              "    </tr>\n",
              "    <tr>\n",
              "      <th>std</th>\n",
              "      <td>0.828066</td>\n",
              "      <td>0.435866</td>\n",
              "      <td>1.765298</td>\n",
              "      <td>0.762238</td>\n",
              "    </tr>\n",
              "    <tr>\n",
              "      <th>min</th>\n",
              "      <td>4.300000</td>\n",
              "      <td>2.000000</td>\n",
              "      <td>1.000000</td>\n",
              "      <td>0.100000</td>\n",
              "    </tr>\n",
              "    <tr>\n",
              "      <th>25%</th>\n",
              "      <td>5.100000</td>\n",
              "      <td>2.800000</td>\n",
              "      <td>1.600000</td>\n",
              "      <td>0.300000</td>\n",
              "    </tr>\n",
              "    <tr>\n",
              "      <th>50%</th>\n",
              "      <td>5.800000</td>\n",
              "      <td>3.000000</td>\n",
              "      <td>4.350000</td>\n",
              "      <td>1.300000</td>\n",
              "    </tr>\n",
              "    <tr>\n",
              "      <th>75%</th>\n",
              "      <td>6.400000</td>\n",
              "      <td>3.300000</td>\n",
              "      <td>5.100000</td>\n",
              "      <td>1.800000</td>\n",
              "    </tr>\n",
              "    <tr>\n",
              "      <th>max</th>\n",
              "      <td>7.900000</td>\n",
              "      <td>4.400000</td>\n",
              "      <td>6.900000</td>\n",
              "      <td>2.500000</td>\n",
              "    </tr>\n",
              "  </tbody>\n",
              "</table>\n",
              "</div>"
            ],
            "text/plain": [
              "               f1          f2          f3          f4\n",
              "count  150.000000  150.000000  150.000000  150.000000\n",
              "mean     5.843333    3.057333    3.758000    1.199333\n",
              "std      0.828066    0.435866    1.765298    0.762238\n",
              "min      4.300000    2.000000    1.000000    0.100000\n",
              "25%      5.100000    2.800000    1.600000    0.300000\n",
              "50%      5.800000    3.000000    4.350000    1.300000\n",
              "75%      6.400000    3.300000    5.100000    1.800000\n",
              "max      7.900000    4.400000    6.900000    2.500000"
            ]
          },
          "metadata": {
            "tags": []
          },
          "execution_count": 8
        }
      ]
    },
    {
      "cell_type": "code",
      "metadata": {
        "colab": {
          "base_uri": "https://localhost:8080/",
          "height": 173
        },
        "id": "oSYAqFdU98kf",
        "outputId": "f0ba9088-b7f8-486f-8c73-293ceeda83f1"
      },
      "source": [
        "df.corr()"
      ],
      "execution_count": null,
      "outputs": [
        {
          "output_type": "execute_result",
          "data": {
            "text/html": [
              "<div>\n",
              "<style scoped>\n",
              "    .dataframe tbody tr th:only-of-type {\n",
              "        vertical-align: middle;\n",
              "    }\n",
              "\n",
              "    .dataframe tbody tr th {\n",
              "        vertical-align: top;\n",
              "    }\n",
              "\n",
              "    .dataframe thead th {\n",
              "        text-align: right;\n",
              "    }\n",
              "</style>\n",
              "<table border=\"1\" class=\"dataframe\">\n",
              "  <thead>\n",
              "    <tr style=\"text-align: right;\">\n",
              "      <th></th>\n",
              "      <th>f1</th>\n",
              "      <th>f2</th>\n",
              "      <th>f3</th>\n",
              "      <th>f4</th>\n",
              "    </tr>\n",
              "  </thead>\n",
              "  <tbody>\n",
              "    <tr>\n",
              "      <th>f1</th>\n",
              "      <td>1.000000</td>\n",
              "      <td>-0.117570</td>\n",
              "      <td>0.871754</td>\n",
              "      <td>0.817941</td>\n",
              "    </tr>\n",
              "    <tr>\n",
              "      <th>f2</th>\n",
              "      <td>-0.117570</td>\n",
              "      <td>1.000000</td>\n",
              "      <td>-0.428440</td>\n",
              "      <td>-0.366126</td>\n",
              "    </tr>\n",
              "    <tr>\n",
              "      <th>f3</th>\n",
              "      <td>0.871754</td>\n",
              "      <td>-0.428440</td>\n",
              "      <td>1.000000</td>\n",
              "      <td>0.962865</td>\n",
              "    </tr>\n",
              "    <tr>\n",
              "      <th>f4</th>\n",
              "      <td>0.817941</td>\n",
              "      <td>-0.366126</td>\n",
              "      <td>0.962865</td>\n",
              "      <td>1.000000</td>\n",
              "    </tr>\n",
              "  </tbody>\n",
              "</table>\n",
              "</div>"
            ],
            "text/plain": [
              "          f1        f2        f3        f4\n",
              "f1  1.000000 -0.117570  0.871754  0.817941\n",
              "f2 -0.117570  1.000000 -0.428440 -0.366126\n",
              "f3  0.871754 -0.428440  1.000000  0.962865\n",
              "f4  0.817941 -0.366126  0.962865  1.000000"
            ]
          },
          "metadata": {
            "tags": []
          },
          "execution_count": 9
        }
      ]
    },
    {
      "cell_type": "markdown",
      "metadata": {
        "id": "7TdSfhgMyaoI"
      },
      "source": [
        "We can see that correlation between **f3** and **f4** is most important than correlation between **f1** and **f4**."
      ]
    },
    {
      "cell_type": "code",
      "metadata": {
        "colab": {
          "base_uri": "https://localhost:8080/",
          "height": 173
        },
        "id": "vZ-A169-98pY",
        "outputId": "df079bd2-1f76-4bb4-8bfb-d53e4fbf8d52"
      },
      "source": [
        "df.cov()"
      ],
      "execution_count": null,
      "outputs": [
        {
          "output_type": "execute_result",
          "data": {
            "text/html": [
              "<div>\n",
              "<style scoped>\n",
              "    .dataframe tbody tr th:only-of-type {\n",
              "        vertical-align: middle;\n",
              "    }\n",
              "\n",
              "    .dataframe tbody tr th {\n",
              "        vertical-align: top;\n",
              "    }\n",
              "\n",
              "    .dataframe thead th {\n",
              "        text-align: right;\n",
              "    }\n",
              "</style>\n",
              "<table border=\"1\" class=\"dataframe\">\n",
              "  <thead>\n",
              "    <tr style=\"text-align: right;\">\n",
              "      <th></th>\n",
              "      <th>f1</th>\n",
              "      <th>f2</th>\n",
              "      <th>f3</th>\n",
              "      <th>f4</th>\n",
              "    </tr>\n",
              "  </thead>\n",
              "  <tbody>\n",
              "    <tr>\n",
              "      <th>f1</th>\n",
              "      <td>0.685694</td>\n",
              "      <td>-0.042434</td>\n",
              "      <td>1.274315</td>\n",
              "      <td>0.516271</td>\n",
              "    </tr>\n",
              "    <tr>\n",
              "      <th>f2</th>\n",
              "      <td>-0.042434</td>\n",
              "      <td>0.189979</td>\n",
              "      <td>-0.329656</td>\n",
              "      <td>-0.121639</td>\n",
              "    </tr>\n",
              "    <tr>\n",
              "      <th>f3</th>\n",
              "      <td>1.274315</td>\n",
              "      <td>-0.329656</td>\n",
              "      <td>3.116278</td>\n",
              "      <td>1.295609</td>\n",
              "    </tr>\n",
              "    <tr>\n",
              "      <th>f4</th>\n",
              "      <td>0.516271</td>\n",
              "      <td>-0.121639</td>\n",
              "      <td>1.295609</td>\n",
              "      <td>0.581006</td>\n",
              "    </tr>\n",
              "  </tbody>\n",
              "</table>\n",
              "</div>"
            ],
            "text/plain": [
              "          f1        f2        f3        f4\n",
              "f1  0.685694 -0.042434  1.274315  0.516271\n",
              "f2 -0.042434  0.189979 -0.329656 -0.121639\n",
              "f3  1.274315 -0.329656  3.116278  1.295609\n",
              "f4  0.516271 -0.121639  1.295609  0.581006"
            ]
          },
          "metadata": {
            "tags": []
          },
          "execution_count": 10
        }
      ]
    },
    {
      "cell_type": "markdown",
      "metadata": {
        "id": "INUtYRbhzRC_"
      },
      "source": [
        "We can see again that linear relationship between **f3** and **f4** is most important than linear relationship between **f1** and **f4**."
      ]
    },
    {
      "cell_type": "code",
      "metadata": {
        "colab": {
          "base_uri": "https://localhost:8080/",
          "height": 268
        },
        "id": "P5yRFHsG0P14",
        "outputId": "a78f6e34-620d-43f2-c064-a47f7bb37ad1"
      },
      "source": [
        "df = np.array(df)\n",
        "plt.scatter(df[:, 0], df[:, 1], s=40, cmap=plt.cm.Spectral)\n",
        "plt.show()"
      ],
      "execution_count": null,
      "outputs": [
        {
          "output_type": "display_data",
          "data": {
            "image/png": "[encoded data removed]",
            "text/plain": [
              "<Figure size 432x288 with 1 Axes>"
            ]
          },
          "metadata": {
            "tags": [],
            "needs_background": "light"
          }
        }
      ]
    },
    {
      "cell_type": "markdown",
      "metadata": {
        "id": "qL4-QlGPPY7I"
      },
      "source": [
        "### 1- Code from scratch the k-means clustering algorithm."
      ]
    },
    {
      "cell_type": "code",
      "metadata": {
        "id": "Cohecf6Cl7hX"
      },
      "source": [
        "class KMeansClustering:\n",
        "    def __init__(self, k=4, tol=0.001, max_iter=1000):\n",
        "        self.k = k\n",
        "        self.tol = tol\n",
        "        self.max_iter = max_iter\n",
        "        # tol := how much the centroids going to move.\n",
        "        # tol allow us to say we're optimized if the centroid is not moving more than the tolerance value.\n",
        "\n",
        "    def fit(self,data):\n",
        "\n",
        "        self.centroids = {}\n",
        "\n",
        "        for i in range(self.k):\n",
        "            self.centroids[i] = data[i]\n",
        "\n",
        "        for i in range(self.max_iter):\n",
        "            self.classifications = {}\n",
        "\n",
        "            for i in range(self.k):\n",
        "                self.classifications[i] = []\n",
        "\n",
        "            for featureset in data:\n",
        "                distances = [np.linalg.norm(featureset - self.centroids[centroid]) for centroid in self.centroids]\n",
        "                classification = np.argmin(distances) # or classification = distances.index(min(distances))\n",
        "                self.classifications[classification].append(featureset)\n",
        "\n",
        "            prev_centroids = dict(self.centroids)\n",
        "\n",
        "            for classification in self.classifications:\n",
        "                self.centroids[classification] = np.average(self.classifications[classification], axis=0)\n",
        "\n",
        "            optimized = True\n",
        "\n",
        "            for c in self.centroids:\n",
        "                original_centroid = prev_centroids[c]\n",
        "                current_centroid = self.centroids[c]\n",
        "                if np.sum(((current_centroid - original_centroid)/original_centroid)*100) > self.tol:\n",
        "                    #print(np.sum(((current_centroid-original_centroid)/original_centroid)*100.0))\n",
        "                    optimized = False\n",
        "\n",
        "            if optimized:\n",
        "                break\n",
        "\n",
        "    def predict(self,data):\n",
        "        distances = [np.linalg.norm(data - self.centroids[centroid]) for centroid in self.centroids]\n",
        "        classification =  np.argmin(distances)\n",
        "        \n",
        "        return classification"
      ],
      "execution_count": null,
      "outputs": []
    },
    {
      "cell_type": "markdown",
      "metadata": {
        "id": "-xelwW5P-e_y"
      },
      "source": [
        "###2- Visualize the different centroids and clusters."
      ]
    },
    {
      "cell_type": "code",
      "metadata": {
        "colab": {
          "base_uri": "https://localhost:8080/",
          "height": 500
        },
        "id": "p3WlbEKj6MNu",
        "outputId": "fc7bbc83-d3c8-4311-d6dc-7988b5005023"
      },
      "source": [
        "### Test class := Visualization ####\n",
        "\n",
        "colors = [\"g\",\"r\",\"c\",\"b\",\"k\"]\n",
        "\n",
        "model_clf = KMeansClustering()\n",
        "model_clf.fit(df)\n",
        "classification = model_clf.predict(df)\n",
        "\n",
        "print(f\"The index of the minimum distance is : {classification}\")\n",
        "\n",
        "plt.figure(figsize=(12,8))\n",
        "\n",
        "for centroid in clf.centroids:\n",
        "    plt.scatter(clf.centroids[centroid][0], clf.centroids[centroid][1], marker=\"^\", color=\"k\", s=30, linewidths=5)\n",
        "\n",
        "for classification in clf.classifications:\n",
        "    color = colors[classification]\n",
        "    for featureset in clf.classifications[classification]:\n",
        "        plt.scatter(featureset[0], featureset[1], marker=\"x\", color=color, s=30, linewidths=5)\n",
        "\n",
        "plt.show()"
      ],
      "execution_count": null,
      "outputs": [
        {
          "output_type": "stream",
          "text": [
            "The index of the minimum distance is : 3\n"
          ],
          "name": "stdout"
        },
        {
          "output_type": "display_data",
          "data": {
            "image/png": "[encoded data removed]",
            "text/plain": [
              "<Figure size 864x576 with 1 Axes>"
            ]
          },
          "metadata": {
            "tags": [],
            "needs_background": "light"
          }
        }
      ]
    },
    {
      "cell_type": "code",
      "metadata": {
        "id": "sBjgJp_3OBsp"
      },
      "source": [
        ""
      ],
      "execution_count": null,
      "outputs": []
    },
    {
      "cell_type": "markdown",
      "metadata": {
        "id": "SgvkwsjA-jyG"
      },
      "source": [
        "### 3- Code from scratch the PCA algorithm.\n"
      ]
    },
    {
      "cell_type": "code",
      "metadata": {
        "id": "qUgdvGOt-m9Q"
      },
      "source": [
        "class PCA:\n",
        "  \n",
        "  def __init__(self, n_components):\n",
        "    self.n_components = n_components\n",
        "    #self.components = None\n",
        "    self.mean = None\n",
        "\n",
        "  def fit(self, X):\n",
        "    # copying X because can be a float type\n",
        "    X = X.astype(float)\n",
        "\n",
        "    # normalized data\n",
        "    self.mean = np.mean(X, axis=0)\n",
        "    stds = X.std()\n",
        "    X_centered = X - self.mean\n",
        "    X_normalized = X_centered/stds\n",
        "\n",
        "\n",
        "    # covariance, function needs samples as columns\n",
        "    covariance = X_normalized.T.dot(X_normalized)  # or covariance = np.cov(X_centered.T)\n",
        "\n",
        "    # eigendecomposition\n",
        "    eigenvalues, eigenvectors = np.linalg.eig(covariance)\n",
        "\n",
        "    # eigenvector v = [:,i] column vector, transpose for easier calculations\n",
        "    # sort eigenvectors\n",
        "    ##eigenvectors = eigenvectors.T\n",
        "    indx = np.argsort(eigenvalues)[::-1]\n",
        "    sorted_eigenvalues = eigenvalues[indx]\n",
        "    sorted_eigenvectors = eigenvectors[:,indx]\n",
        "\n",
        "    # select a subset from the rearranged eigenvalue matrix as per our need\n",
        "    ##self.components = eigenvectors[0:self.n_components]\n",
        "    self.eigenvectors_subset = sorted_eigenvectors[:, 0:self.n_components]\n",
        "    return X_centered, sorted_eigenvalues, sorted_eigenvectors, self.eigenvectors_subset\n",
        "    \n",
        "\n",
        "  def projection_data(self, X):\n",
        "    # project data\n",
        "    X = X - self.mean\n",
        "    stds = X.std()\n",
        "    X_centered = X - self.mean\n",
        "    X_normalized = X_centered/stds\n",
        "    return np.dot(self.eigenvectors_subset.T, X_normalized.T).T"
      ],
      "execution_count": null,
      "outputs": []
    },
    {
      "cell_type": "markdown",
      "metadata": {
        "id": "1XM9ty26-nJC"
      },
      "source": [
        "### 4- Visualize the result of PCA for 2 components."
      ]
    },
    {
      "cell_type": "code",
      "metadata": {
        "colab": {
          "base_uri": "https://localhost:8080/",
          "height": 871
        },
        "id": "Ks_AY4kt-oR9",
        "outputId": "d4e6feb3-6de2-4b1e-ce6a-36d02f5d1bce"
      },
      "source": [
        "### Test class := Visualization ####\n",
        "\n",
        "model_pca = PCA(2)\n",
        "X_centered, sorted_eigenvalues, sorted_eigenvectors, eigenvectors_sorted = model_pca.fit(df)\n",
        "X_projected = model_pca.projection_data(df)\n",
        "\n",
        "# Creating a Pandas DataFrame of reduced Dataset\n",
        "df_selected = pd.DataFrame(X_projected , columns = ['f3','f4'])\n",
        " \n",
        "# Concat it with target variable to create a complete Dataset\n",
        "##principal_df = pd.concat([principal_df , pd.DataFrame(target)] , axis = 1)\n",
        "\n",
        "print(f\"Shape of X : {df.shape}\")\n",
        "print(\"------------------------------------------------\")\n",
        "print(f\"Shape of transformed X : {X_projected.shape}\")\n",
        "print(\"------------------------------------------------\")\n",
        "print(f\"Eigenvalues are : {sorted_eigenvalues}\")\n",
        "print(\"------------------------------------------------\")\n",
        "print(f\"Eigenvectors are : {sorted_eigenvectors}\")\n",
        "print(\"------------------------------------------------\")\n",
        "print(f\"The eigenvectors selected are : {eigenvectors_sorted}\")\n",
        "print(\"------------------------------------------------\")\n",
        "print(f\"X projected is : {X_projected[:5] }\")\n",
        "\n",
        "# x1 = X_projected[:, 0]\n",
        "# x2 = X_projected[:, 1]\n",
        "# plt.scatter(x1, x2, alpha=0.8)\n",
        "\n",
        "# plt.xlabel('Principal Component 1')\n",
        "# plt.ylabel('Principal Component 2')\n",
        "# plt.colorbar()\n",
        "# plt.show()\n",
        "plt.figure(figsize=(12,8))\n",
        "sb.scatterplot(data = df_selected , x = 'f3',y = 'f4',  s = 60 , palette= 'icefire')"
      ],
      "execution_count": null,
      "outputs": [
        {
          "output_type": "stream",
          "text": [
            "Shape of X : (150, 4)\n",
            "------------------------------------------------\n",
            "Shape of transformed X : (150, 2)\n",
            "------------------------------------------------\n",
            "Eigenvalues are : [161.70402757   9.2806514    2.99102843   0.91154451]\n",
            "------------------------------------------------\n",
            "Eigenvectors are : [[ 0.36138659 -0.65658877 -0.58202985  0.31548719]\n",
            " [-0.08452251 -0.73016143  0.59791083 -0.3197231 ]\n",
            " [ 0.85667061  0.17337266  0.07623608 -0.47983899]\n",
            " [ 0.3582892   0.07548102  0.54583143  0.75365743]]\n",
            "------------------------------------------------\n",
            "The eigenvectors selected are : [[ 0.36138659 -0.65658877]\n",
            " [-0.08452251 -0.73016143]\n",
            " [ 0.85667061  0.17337266]\n",
            " [ 0.3582892   0.07548102]]\n",
            "------------------------------------------------\n",
            "X projected is : [[-7.68213095  4.69904589]\n",
            " [-7.71029776  5.16486185]\n",
            " [-7.87437441  5.13478473]\n",
            " [-7.73957666  5.29745442]\n",
            " [-7.72397467  4.6921419 ]]\n"
          ],
          "name": "stdout"
        },
        {
          "output_type": "execute_result",
          "data": {
            "text/plain": [
              "<matplotlib.axes._subplots.AxesSubplot at 0x7fef5f9359d0>"
            ]
          },
          "metadata": {
            "tags": []
          },
          "execution_count": 30
        },
        {
          "output_type": "display_data",
          "data": {
            "image/png": "[encoded data removed]",
            "text/plain": [
              "<Figure size 864x576 with 1 Axes>"
            ]
          },
          "metadata": {
            "tags": [],
            "needs_background": "light"
          }
        }
      ]
    },
    {
      "cell_type": "code",
      "metadata": {
        "id": "pYA2gke0zoBZ"
      },
      "source": [
        ""
      ],
      "execution_count": null,
      "outputs": []
    },
    {
      "cell_type": "code",
      "metadata": {
        "id": "KFL80NSRzwmJ"
      },
      "source": [
        ""
      ],
      "execution_count": null,
      "outputs": []
    },
    {
      "cell_type": "code",
      "metadata": {
        "id": "h6gJramVzwoS"
      },
      "source": [
        ""
      ],
      "execution_count": null,
      "outputs": []
    }
  ]
}